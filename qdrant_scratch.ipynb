{
 "cells": [
  {
   "cell_type": "code",
   "execution_count": 8,
   "metadata": {},
   "outputs": [],
   "source": [
    "from llama_index.vector_stores.qdrant import QdrantVectorStore\n",
    "from qdrant_client import QdrantClient\n",
    "from pprint import pprint"
   ]
  },
  {
   "cell_type": "code",
   "execution_count": 9,
   "metadata": {},
   "outputs": [],
   "source": [
    "# Qdrant server URL\n",
    "URL =\"localhost\"\n",
    "# Qdrant dimension of the collection\n",
    "DIMENSION = 384\n",
    "# Qdrant collection name\n",
    "COLLECTION_NAME = \"data\" #\"incident data\"\n",
    "METRIC_NAME =\"COSINE\""
   ]
  },
  {
   "cell_type": "code",
   "execution_count": 10,
   "metadata": {},
   "outputs": [],
   "source": [
    "client = QdrantClient(URL,port=6333)"
   ]
  },
  {
   "cell_type": "code",
   "execution_count": 11,
   "metadata": {},
   "outputs": [],
   "source": [
    "vector_store = QdrantVectorStore(client=client, collection_name=COLLECTION_NAME)"
   ]
  },
  {
   "cell_type": "code",
   "execution_count": 12,
   "metadata": {},
   "outputs": [],
   "source": [
    "import fitz\n",
    "doc = fitz.open('data/civil_code.pdf')"
   ]
  },
  {
   "cell_type": "code",
   "execution_count": 13,
   "metadata": {},
   "outputs": [],
   "source": [
    "from llama_index.core.node_parser import SentenceSplitter"
   ]
  },
  {
   "cell_type": "code",
   "execution_count": 14,
   "metadata": {},
   "outputs": [],
   "source": [
    "text_splitter = SentenceSplitter(\n",
    "    chunk_size=512\n",
    ")"
   ]
  },
  {
   "cell_type": "code",
   "execution_count": 24,
   "metadata": {},
   "outputs": [],
   "source": [
    "text_chunks = []\n",
    "# maintain relationship with source doc index, to help inject doc metadata in (3)\n",
    "doc_idxs = []\n",
    "for doc_idx, page in enumerate(doc):\n",
    "    page_text = page.get_text(\"text\")\n",
    "    cur_text_chunks = text_splitter.split_text(page_text)\n",
    "    text_chunks.extend(cur_text_chunks)\n",
    "    doc_idxs.extend([doc_idx] * len(cur_text_chunks))"
   ]
  },
  {
   "cell_type": "code",
   "execution_count": 25,
   "metadata": {},
   "outputs": [
    {
     "data": {
      "text/plain": [
       "56"
      ]
     },
     "execution_count": 25,
     "metadata": {},
     "output_type": "execute_result"
    }
   ],
   "source": [
    "len(doc_idxs)"
   ]
  },
  {
   "cell_type": "code",
   "execution_count": 26,
   "metadata": {},
   "outputs": [
    {
     "name": "stdout",
     "output_type": "stream",
     "text": [
      "('c) non-registered organisational entity – a union provided for by the\\n'\n",
      " 'legislation of Georgia or other jurisdiction (a partnership of flat\\n'\n",
      " 'owners, a non-registered union, a partnership, etc.), which has an\\n'\n",
      " 'internal organisational structure and acts in its own right in\\n'\n",
      " 'relations with a third party and, at the same time, is not registered\\n'\n",
      " 'as a legal person;\\n'\n",
      " 'd) beneficial owner – a natural person as determined by Article 13\\n'\n",
      " 'of this Law;\\n'\n",
      " 'e) UN Sanctions Committee – a respective sanctions committee\\n'\n",
      " 'established on the basis of the resolutions of the United Nations\\n'\n",
      " 'Security Council;\\n'\n",
      " 'f) UN Security Council resolution – a respective resolution of the\\n'\n",
      " 'United Nations Security Council adopted on the basis of Chapter VII\\n'\n",
      " 'of the Charter of the United Nations, which aims at preventing,\\n'\n",
      " 'detecting and suppressing the financing of terrorism or the\\n'\n",
      " 'proliferation of weapons of mass destruction;\\n'\n",
      " 'g) transaction – a transaction as defined by Article 50 of the Civil\\n'\n",
      " 'Code of Georgia;\\n'\n",
      " 'h) related transactions – transactions made in a reasonable period\\n'\n",
      " 'of time and/or single transactions determined on the basis of other\\n'\n",
      " 'criteria, and which are related\\n'\n",
      " 'to the same client. In the cases determined by this Law, related\\n'\n",
      " 'transactions shall be detected for the purposes of preventing a client\\n'\n",
      " 'from avoiding measures provided for by this Law by splitting up the\\n'\n",
      " 'transaction amount.\\n'\n",
      " 'i) reasonable belief – information or a set of circumstances serving\\n'\n",
      " 'as the basis for an objective observer to make a conclusion that a\\n'\n",
      " 'person might have committed an offence;\\n'\n",
      " 'j) single transaction – a transaction (except for a transaction\\n'\n",
      " 'prepared, made or completed within a business relationship) taking\\n'\n",
      " 'into account the provision of a service determined by the legislation\\n'\n",
      " 'of Georgia by an obliged entity in favour of a client;')\n"
     ]
    }
   ],
   "source": [
    "pprint(text_chunks[1])"
   ]
  },
  {
   "cell_type": "code",
   "execution_count": 27,
   "metadata": {},
   "outputs": [],
   "source": [
    "from llama_index.core.schema import TextNode"
   ]
  },
  {
   "cell_type": "code",
   "execution_count": 28,
   "metadata": {},
   "outputs": [],
   "source": [
    "nodes = []\n",
    "for idx, text_chunk in enumerate(text_chunks):\n",
    "    node = TextNode(\n",
    "        text=text_chunk,\n",
    "    )\n",
    "    src_doc_idx = doc_idxs[idx]\n",
    "    src_page = doc[src_doc_idx]\n",
    "    nodes.append(node)"
   ]
  },
  {
   "cell_type": "code",
   "execution_count": 29,
   "metadata": {},
   "outputs": [],
   "source": [
    "from llama_index.llms.openai import OpenAI\n",
    "from llama_index.core import Settings\n",
    "from llama_index.core  import VectorStoreIndex\n",
    "from llama_index.embeddings.huggingface import HuggingFaceEmbedding\n",
    "\n",
    "llm = OpenAI(api_base=\"http://localhost:1234/v1\",\n",
    "             api_key=\"lm-studio\",\n",
    "            #  model = 'lmstudio-community/Meta-Llama-3-8B-Instruct-GGUF/Meta-Llama-3-8B-Instruct-Q4_K_M.gguf',\n",
    "             )\n",
    "Settings.embed_model = HuggingFaceEmbedding(model_name=\"BAAI/bge-small-en-v1.5\")\n",
    "Settings.llm = llm\n"
   ]
  },
  {
   "cell_type": "code",
   "execution_count": 30,
   "metadata": {},
   "outputs": [],
   "source": [
    "from llama_index.core.extractors import (\n",
    "    QuestionsAnsweredExtractor,\n",
    "    TitleExtractor,\n",
    ")\n",
    "from llama_index.core.ingestion import IngestionPipeline\n",
    "\n",
    "extractors = [\n",
    "    TitleExtractor(nodes=5, llm=llm),\n",
    "    QuestionsAnsweredExtractor(questions=3, llm=llm),\n",
    "]"
   ]
  },
  {
   "cell_type": "code",
   "execution_count": 31,
   "metadata": {},
   "outputs": [
    {
     "name": "stderr",
     "output_type": "stream",
     "text": [
      "100%|██████████| 5/5 [00:42<00:00,  8.50s/it]\n",
      "100%|██████████| 56/56 [11:54<00:00, 12.76s/it]\n"
     ]
    }
   ],
   "source": [
    "pipeline = IngestionPipeline(\n",
    "    transformations=extractors,\n",
    ")\n",
    "nodes = await pipeline.arun(nodes=nodes, in_place=False)"
   ]
  },
  {
   "cell_type": "code",
   "execution_count": 32,
   "metadata": {},
   "outputs": [
    {
     "name": "stdout",
     "output_type": "stream",
     "text": [
      "{'document_title': 'Based on the provided context, I would suggest a '\n",
      "                   'comprehensive title that captures the essence of the '\n",
      "                   \"document. Here's a potential title:\\n\"\n",
      "                   '\\n'\n",
      "                   '\"Georgia\\'s Financial Regulation and Compliance Framework: '\n",
      "                   'Definitions, Obligations, and Concepts for Anti-Money '\n",
      "                   'Laundering and Combating Terrorism Financing\"\\n'\n",
      "                   '\\n'\n",
      "                   'This title incorporates key elements from the candidate '\n",
      "                   'titles, including:\\n'\n",
      "                   '\\n'\n",
      "                   \"* Georgia's financial regulation and compliance framework\\n\"\n",
      "                   '* Definitions of various terms related to anti-money '\n",
      "                   'laundering (AML) and combating terrorism financing (CFT)\\n'\n",
      "                   '* Obligations and requirements for entities subject to '\n",
      "                   'AML/CFT regulations in Georgia\\n'\n",
      "                   '* Concepts and legal frameworks relevant to AML/CFT '\n",
      "                   'regulations\\n'\n",
      "                   '\\n'\n",
      "                   'This title provides a clear and concise summary of the '\n",
      "                   \"document's content, making it easy for readers to \"\n",
      "                   'understand the scope and purpose of the document.',\n",
      " 'questions_this_excerpt_can_answer': 'Based on the provided context, here are '\n",
      "                                      'three potential questions that this '\n",
      "                                      'document can provide specific answers '\n",
      "                                      'to:\\n'\n",
      "                                      '\\n'\n",
      "                                      '1. What is the exact scope of '\n",
      "                                      'obligations and requirements for '\n",
      "                                      \"obliged entities in Georgia's financial \"\n",
      "                                      'regulation and compliance framework, as '\n",
      "                                      'outlined in Article 2 of the Law?\\n'\n",
      "                                      '\\n'\n",
      "                                      'This question can be answered by '\n",
      "                                      'referencing specific provisions within '\n",
      "                                      'the document, such as definitions of '\n",
      "                                      'terms like \"obliged entity\" and '\n",
      "                                      '\"account\", which provide clarity on the '\n",
      "                                      'scope of obligations.\\n'\n",
      "                                      '\\n'\n",
      "                                      '2. How does the Law of Georgia on '\n",
      "                                      'Facilitating the Prevention of Money '\n",
      "                                      'Laundering and the Financing of '\n",
      "                                      'Terrorism define the concept of an '\n",
      "                                      '\"account\" in relation to commercial '\n",
      "                                      'banks, brokerage companies, payment '\n",
      "                                      'service providers, or virtual asset '\n",
      "                                      'service providers?\\n'\n",
      "                                      '\\n'\n",
      "                                      'This question can be answered by '\n",
      "                                      'referencing Article 2(1)(b) of the Law, '\n",
      "                                      'which provides a detailed definition of '\n",
      "                                      'what constitutes an \"account\" for these '\n",
      "                                      'entities.\\n'\n",
      "                                      '\\n'\n",
      "                                      '3. What is the effective date for the '\n",
      "                                      'revised definition of an \"account\" in '\n",
      "                                      'Article 2(1)(b), as mentioned in the '\n",
      "                                      'brackets?\\n'\n",
      "                                      '\\n'\n",
      "                                      'This question can be answered by '\n",
      "                                      'referencing the specific language '\n",
      "                                      'within the document, which indicates '\n",
      "                                      'that the revised definition will become '\n",
      "                                      'effective from July 1, 2023.\\n'\n",
      "                                      '\\n'\n",
      "                                      'Higher-level summaries of surrounding '\n",
      "                                      'context may also provide additional '\n",
      "                                      'insights to generate better questions. '\n",
      "                                      'For example:\\n'\n",
      "                                      '\\n'\n",
      "                                      \"* The Law is part of Georgia's \"\n",
      "                                      'financial regulation and compliance '\n",
      "                                      'framework aimed at preventing money '\n",
      "                                      'laundering and combating terrorism '\n",
      "                                      'financing.\\n'\n",
      "                                      '* The Law defines specific terms and '\n",
      "                                      'obligations for obliged entities, '\n",
      "                                      'supervisory bodies, and other '\n",
      "                                      'administrative bodies in Georgia.\\n'\n",
      "                                      '\\n'\n",
      "                                      'These summaries can help generate more '\n",
      "                                      'targeted questions that this context '\n",
      "                                      'can answer, such as:\\n'\n",
      "                                      '\\n'\n",
      "                                      '* What are the key provisions in '\n",
      "                                      \"Georgia's financial regulation and \"\n",
      "                                      'compliance framework related to '\n",
      "                                      'anti-money laundering and combating '\n",
      "                                      'terrorism financing?\\n'\n",
      "                                      '* How do the definitions of terms like '\n",
      "                                      '\"obliged entity\" and \"account\" impact '\n",
      "                                      'the obligations and requirements for '\n",
      "                                      'entities subject to AML/CFT regulations '\n",
      "                                      'in Georgia?'}\n"
     ]
    }
   ],
   "source": [
    "pprint(nodes[0].metadata)"
   ]
  },
  {
   "cell_type": "code",
   "execution_count": 33,
   "metadata": {},
   "outputs": [],
   "source": [
    "for node in nodes:\n",
    "    node_embedding = Settings.embed_model.get_text_embedding(\n",
    "        node.get_content(metadata_mode=\"all\")\n",
    "    )\n",
    "    node.embedding = node_embedding"
   ]
  },
  {
   "cell_type": "code",
   "execution_count": 34,
   "metadata": {},
   "outputs": [
    {
     "name": "stdout",
     "output_type": "stream",
     "text": [
      "TextNode(id_='8020aa03-7453-4dbc-b86b-e6122b2ba1d1', embedding=[-0.00614240113645792, -0.018232472240924835, -0.004203591030091047, 0.0234830379486084, 0.027193590998649597, -0.016421686857938766, 0.016526786610484123, -0.015487439930438995, -0.03571461886167526, -0.024261096492409706, -0.013850330375134945, 0.019820384681224823, -0.02937014400959015, -0.0027103081811219454, 0.016687119379639626, -0.014176814816892147, -0.0075833494774997234, -0.03670141473412514, -0.035148605704307556, 0.07207450270652771, 0.037949491292238235, -0.019267741590738297, 0.02659335918724537, 0.031268682330846786, 0.09716033935546875, 0.02058488503098488, -0.0452427975833416, -0.0320291705429554, -0.038427263498306274, -0.1752973049879074, -0.02957446686923504, -0.03430212661623955, -0.047572050243616104, 0.02262840047478676, -0.008386263623833656, -0.0036717483308166265, -0.05559055507183075, 0.032905787229537964, 0.043053217232227325, 0.03986918181180954, 0.047329775989055634, 0.01739349775016308, -0.02981148660182953, -0.02548280358314514, 0.0385848693549633, -0.02239074930548668, -0.01717914640903473, 0.06170455738902092, -0.06712059676647186, -0.053596265614032745, -0.030249828472733498, -0.06169255077838898, -0.028493637219071388, 0.04020514711737633, -0.05003172904253006, -0.0033557850401848555, -0.012634378857910633, 0.01728140190243721, -0.008488638326525688, 0.0426991768181324, 0.047044165432453156, 0.007360520306974649, -0.1857377141714096, 0.06423894315958023, -0.04487814009189606, 0.06871513277292252, -0.02333272434771061, 0.010563882067799568, 0.044128865003585815, -0.014894843101501465, -0.02514510042965412, 0.013599367812275887, -0.06862488389015198, 0.056757718324661255, -0.017865249887108803, 0.009102496318519115, 0.05546172708272934, 0.032591450959444046, 0.04171111807227135, 0.0004171493055764586, 0.006366134155541658, 0.08594688773155212, -0.018968718126416206, -0.002602793276309967, -0.06608045846223831, -0.005570775829255581, -0.019838323816657066, -0.007364573888480663, 0.02097376063466072, 0.03433673083782196, 0.03879791870713234, -0.03417912498116493, 0.05271216854453087, 0.0044282544404268265, -0.039422255009412766, -0.05177673324942589, -0.028673266991972923, 0.056294701993465424, -0.03295613452792168, 0.39400017261505127, -0.017988774925470352, -0.016005996614694595, -0.008991876617074013, -7.440595072694123e-05, 0.03259633854031563, -0.003851986723020673, 0.034773215651512146, 0.0056064194068312645, 0.025773612782359123, -0.015738368034362793, 0.013901126570999622, 0.044541746377944946, 0.03198086470365524, -0.019943825900554657, -0.007470329757779837, 0.05428294464945793, 0.023221561685204506, -0.027853764593601227, 0.020742999389767647, -0.026373811066150665, 0.03515809401869774, 0.02228039689362049, -0.0054001943208277225, 0.013527994975447655, -0.0159059576690197, -0.00571642629802227, -0.003826010739430785, 0.019437795504927635, 0.031833719462156296, 0.03588051721453667, 0.04231174290180206, -0.015088571235537529, -0.048866625875234604, -0.03476991504430771, 0.0060410648584365845, 0.02326255850493908, -0.017199654132127762, 0.05390625074505806, 0.017703518271446228, 0.011091911233961582, -0.00824657641351223, -0.042434461414813995, -0.022252753376960754, -0.07523833960294724, -0.05067497864365578, 0.16045868396759033, -0.02749914862215519, -0.027415161952376366, -0.029650025069713593, -0.027213238179683685, 0.022204820066690445, 0.043891966342926025, -0.005155462305992842, -0.04333990812301636, 0.007618835661560297, 0.029105670750141144, 0.04595379903912544, 0.036175601184368134, -0.0163476150482893, -0.024495936930179596, -0.014065858907997608, -0.012957027181982994, -0.021033460274338722, 0.12662672996520996, 0.027386371046304703, -0.1318896859884262, -0.05696467310190201, 0.0030048382468521595, -0.04537465050816536, -0.012263324111700058, 0.0006117809098213911, -0.003066804725676775, -0.04945410415530205, -0.02307860180735588, 0.027710657566785812, 0.024831954389810562, -0.03182050958275795, 0.05136317387223244, -0.018889611586928368, 0.04160991311073303, -0.03216054290533066, -0.08279440551996231, -0.034256789833307266, -0.021218935027718544, -0.04764164239168167, 0.0030521019361913204, -0.05845894291996956, -0.018329035490751266, -0.020230358466506004, -0.01866544596850872, -0.11938417702913284, 0.06396084278821945, -0.0518980547785759, 0.046780459582805634, -0.027327019721269608, -0.05405852571129799, -0.03436405956745148, -0.01550730038434267, -0.015494626015424728, -0.03680775687098503, 0.05650609731674194, 0.05913285166025162, 0.013212400488555431, 0.02970966324210167, 0.002252116333693266, 0.01687265746295452, 0.03629526123404503, -0.011475631967186928, 0.00514439819380641, 0.038713227957487106, -0.013357164338231087, 0.002423687605187297, -0.05430807173252106, -0.020113050937652588, 0.037713900208473206, 0.02026858553290367, -0.017888303846120834, 0.02156570553779602, -0.01818576268851757, 0.019741546362638474, 0.023567358031868935, -0.03573974221944809, 0.013930722139775753, -0.3170519769191742, 0.030062969774007797, -0.03984778746962547, 0.007353125140070915, 0.0570404939353466, -0.05141790583729744, 0.02484419010579586, -0.01179198082536459, -0.07157298177480698, 0.039363835006952286, 0.046141117811203, -0.0033470578491687775, -0.052264127880334854, -0.043610379099845886, 0.023288454860448837, 0.04353032261133194, -0.05296637862920761, -0.05074705556035042, -0.03224719688296318, 0.011057360097765923, -0.007049364037811756, -0.005404086317867041, -0.020791156217455864, -0.007289454340934753, 0.014809302054345608, -0.01075492799282074, 0.06747159361839294, -0.08067548274993896, -0.050327517092227936, 0.0057508330792188644, 0.049519263207912445, 0.02643781341612339, 0.03734340891242027, -0.10012893378734589, 0.00950613059103489, -0.010898229666054249, -0.044883426278829575, 0.03531231731176376, -0.011081475764513016, 0.009861856698989868, -0.00806480087339878, 0.023142194375395775, -0.02577791176736355, 0.03438125178217888, 0.015710847452282906, 0.04697515815496445, 0.0007097586058080196, -0.011528790928423405, -0.002546431962400675, 0.04914354532957077, -0.02575310692191124, 0.02844459004700184, 0.01882266066968441, 0.030556274577975273, 0.014725586399435997, -0.01094356644898653, -0.04241608455777168, 0.07333790510892868, -0.02778933197259903, 0.0020703657064586878, 0.04629179462790489, 0.05316706746816635, 0.04009294509887695, -0.010241679847240448, 0.0332297757267952, -0.04526420310139656, -0.03193896636366844, -0.013289841823279858, -0.04541682079434395, 0.023580359295010567, -0.022406958043575287, 0.01945808343589306, -0.03859711438417435, -0.11060544848442078, 0.0675005242228508, 0.05181657150387764, 0.02211729995906353, -0.01150977611541748, 0.01911051757633686, -0.021672222763299942, 0.036718517541885376, 0.011116263456642628, 0.08941773325204849, -0.012254040688276291, 0.004647286608815193, 0.04903091490268707, -0.008438407443463802, 0.015032326802611351, 0.017088567838072777, -0.0010818199953064322, 0.004927870351821184, -0.018689345568418503, 0.03629414737224579, 0.03400234878063202, 0.017332034185528755, -0.011185970157384872, -0.2800782024860382, 0.010274890810251236, 0.03732122480869293, 0.03297419846057892, 0.04615611210465431, -0.02222060039639473, 0.06916201114654541, -0.0236271433532238, -0.03183777257800102, 0.006898899096995592, 0.05372660979628563, 0.04805861786007881, 0.04278893768787384, -0.04390183091163635, -0.03029102273285389, -0.037762586027383804, 0.07799235731363297, 0.019346848130226135, -0.011095242574810982, 0.028158418834209442, 0.007300826720893383, 0.04044191166758537, 0.181083545088768, -0.03134733438491821, 0.010590840131044388, -0.0048570833168923855, -0.020229190587997437, -0.0027250037528574467, 0.07369674742221832, 0.04082774743437767, 0.07464271038770676, -0.037089020013809204, 0.08001723885536194, 0.009654968976974487, -0.029159866273403168, -0.07731589674949646, 0.01378592848777771, 0.0760992094874382, 0.06979921460151672, -0.027069367468357086, -0.051003746688365936, -0.015559682622551918, 0.014127382077276707, -0.025108003988862038, 0.07478158921003342, 0.0004712650552392006, -0.023486217483878136, -0.06820856034755707, -0.05378763750195503, -0.013208450749516487, -0.03182823956012726, 0.0003011568624060601, -0.03864576667547226, -0.005302657373249531, 0.006063779816031456, 0.02754354104399681, 0.03591189160943031, -0.03203020989894867, 0.05294431746006012, 0.006157098803669214, -0.046993520110845566, 0.031515102833509445, -0.03673650696873665, 0.03840675204992294, 0.0012589667458087206], metadata={'document_title': 'Based on the provided context, I would suggest a comprehensive title that captures the essence of the document. Here\\'s a potential title:\\n\\n\"Georgia\\'s Financial Regulation and Compliance Framework: Definitions, Obligations, and Concepts for Anti-Money Laundering and Combating Terrorism Financing\"\\n\\nThis title incorporates key elements from the candidate titles, including:\\n\\n* Georgia\\'s financial regulation and compliance framework\\n* Definitions of various terms related to anti-money laundering (AML) and combating terrorism financing (CFT)\\n* Obligations and requirements for entities subject to AML/CFT regulations in Georgia\\n* Concepts and legal frameworks relevant to AML/CFT regulations\\n\\nThis title provides a clear and concise summary of the document\\'s content, making it easy for readers to understand the scope and purpose of the document.', 'questions_this_excerpt_can_answer': 'Based on the provided context, here are three potential questions that this document can provide specific answers to:\\n\\n1. What is the exact scope of obligations and requirements for obliged entities in Georgia\\'s financial regulation and compliance framework, as outlined in Article 2 of the Law?\\n\\nThis question can be answered by referencing specific provisions within the document, such as definitions of terms like \"obliged entity\" and \"account\", which provide clarity on the scope of obligations.\\n\\n2. How does the Law of Georgia on Facilitating the Prevention of Money Laundering and the Financing of Terrorism define the concept of an \"account\" in relation to commercial banks, brokerage companies, payment service providers, or virtual asset service providers?\\n\\nThis question can be answered by referencing Article 2(1)(b) of the Law, which provides a detailed definition of what constitutes an \"account\" for these entities.\\n\\n3. What is the effective date for the revised definition of an \"account\" in Article 2(1)(b), as mentioned in the brackets?\\n\\nThis question can be answered by referencing the specific language within the document, which indicates that the revised definition will become effective from July 1, 2023.\\n\\nHigher-level summaries of surrounding context may also provide additional insights to generate better questions. For example:\\n\\n* The Law is part of Georgia\\'s financial regulation and compliance framework aimed at preventing money laundering and combating terrorism financing.\\n* The Law defines specific terms and obligations for obliged entities, supervisory bodies, and other administrative bodies in Georgia.\\n\\nThese summaries can help generate more targeted questions that this context can answer, such as:\\n\\n* What are the key provisions in Georgia\\'s financial regulation and compliance framework related to anti-money laundering and combating terrorism financing?\\n* How do the definitions of terms like \"obliged entity\" and \"account\" impact the obligations and requirements for entities subject to AML/CFT regulations in Georgia?'}, excluded_embed_metadata_keys=[], excluded_llm_metadata_keys=[], relationships={}, text='LAW OF GEORGIA\\nON FACILITATING THE PREVENTION OF MONEY LAUNDERING\\nAND THE FINANCING OF TERRORISM\\nChapter 1 – General Provisions\\nArticle 1 – Purpose and scope of the Law\\n1. The purpose of this Law is to create an effective legal mechanism\\nto facilitate the prevention, detection and suppression of money\\nlaundering and the financing of terrorism, as well as the financing\\nof the proliferation of weapons of mass destruction.\\n2. The fulfilment of the requirements of this Law shall be\\nmandatory for an obliged entity, a supervisory body and other\\nadministrative bodies determined by the legislation of Georgia, and\\nbodies carrying out investigation and criminal prosecution, and\\nmanagers and employees of a unit.\\nArticle 2 – Definition of terms\\n1. For the purposes of this Law, the terms used herein have the\\nfollowing meanings:\\na) obliged entity – a person as defined by Article 3(1) of this Law;\\nb) account – the unique means of accounting monetary funds,\\nsecurities, electronic money or convertible virtual asset with a\\ncommercial bank, a brokerage company, a payment service\\nprovider or a virtual asset service provider;\\n[b) account – the unique means of accounting the monetary funds,\\nsecurities, electronic money or convertible virtual asset of a client\\nwith a commercial bank, a micro-bank, a brokerage company, a\\npayment service provider or a virtual asset service provider; (Shall\\nbecome effective from 1 July 2023)]', start_char_idx=None, end_char_idx=None, text_template='[Excerpt from document]\\n{metadata_str}\\nExcerpt:\\n-----\\n{content}\\n-----\\n', metadata_template='{key}: {value}', metadata_seperator='\\n')\n"
     ]
    }
   ],
   "source": [
    "pprint(nodes[0])"
   ]
  },
  {
   "cell_type": "code",
   "execution_count": 35,
   "metadata": {},
   "outputs": [
    {
     "data": {
      "text/plain": [
       "['8020aa03-7453-4dbc-b86b-e6122b2ba1d1', 'b830bbf5-bca6-4796-b552-ff64ad4fb05a', '4affa93a-1eae-49e6-8d9f-359b615e8fe1', '1b74ede0-3fb3-434b-b190-367c15fd2909', '887ddf80-ec1e-46c9-8989-f011eec9a0ba', '95ac4d42-4ace-42b9-94eb-99941096f860', 'f2f2f7de-c563-49a2-9c12-b882fd2547bd', 'b34a3d9e-c95a-4bba-af66-4c833a2fd788', '84624b19-9b21-44e5-99ba-090c724cf6f3', '70ce99e7-b1b8-469f-bdc8-34d7cf257125', 'b19a610a-dbc5-4b1b-b6ea-a89d8deea42f', 'ffd85b92-eb34-4763-b1eb-bc3c7082e2c1', '23453b9e-691b-4cfb-8b4d-832682852e13', '64fed1f3-5ab0-4e02-aa6d-9797e084d6bb', 'a193736a-4838-4b55-a5b1-8b80814ff011', '23c9a2d8-8098-46ab-a0ce-e84f5a723782', 'b97c907a-9e80-42d2-b1ab-abb6e2308fa7', 'f35415bc-8419-49ae-b7c3-4ace3bb577bf', '3f67276d-c290-48c9-ba82-2b70a3ca19e6', '0a82734a-a64a-4750-b7d7-985e9c550618', '43609729-ceed-4638-adac-4fdb8c06c4a4', 'fd22fb18-da0f-4d4d-8f68-73069172abd9', 'e17a0a61-fe2e-41da-94d3-cc6760b6e212', '8989494d-274e-444b-bf53-7e092469dd15', '04a913a2-4ce0-4312-88a4-298130fa3f0c', '361ee53b-e63b-4a21-b850-3868a8d27d2a', 'b9ab07fb-5d56-49ea-9134-dc0640dfd9d2', 'a083d8af-485f-4698-a1cb-fc6780d17cab', '87cee799-61b2-4860-8898-123d977a119d', '42dd66a7-5e57-4c37-a64a-65c2e643c212', 'df6c0754-1f7d-4413-b0c8-7ee25e551279', '9a92b427-8fa3-49f4-98ad-c8f796d236de', '0689dcd9-16d0-4138-9a19-d6b6769b5c98', '0b70ce68-373e-4a2f-b670-594cb074c744', 'c3c4e0b3-cb46-495b-9de3-1931f7c3bdc5', 'a9db674b-ff6d-4123-8281-0233af0f0b4d', '9fb900c9-7b13-4265-b782-ae0fb1f7b74e', '9249134d-2fd7-4b6a-b4e7-682220a8f40f', '24d4d784-a9cf-4900-99f4-c53263b03987', 'c543bb39-1c29-4703-921e-350af69e236c', '0c53305c-d61f-4447-8bd0-5b1cca5e7ad1', 'b5b29e93-baa2-43f5-bcc7-5442db7c8567', '8bbe74b5-a888-423b-8124-7c00b4d352e0', '6fee9b4f-33bb-4fa7-91bf-79195b7bad2d', 'd042710e-8e15-40ff-a25b-8faa1625d109', 'be65b1b7-891a-48dc-899d-5ba6aee8d8e0', '21671840-120c-49fe-abf3-fac98e37e5ea', 'fd35ed77-7632-460b-b2e3-864435560b49', 'a69eb264-376c-4f53-9f54-6bcab20f885e', '43aa3e9e-4cbe-40c5-95f0-074854dfc0e5', '00799021-3f8b-4c13-b0e8-238083f97ef5', '225e0ff6-6993-425c-a6b4-4b2dade849e1', 'c78c5f80-5d17-4cd3-bff0-7780fb57cb19', 'ed661143-12e2-4fca-913b-25969b050ae0', '7d3d8f4b-91bd-446c-a8fb-971812b8d516', '8891b266-bb86-46da-9733-c1c6365ab8ee']"
      ]
     },
     "execution_count": 35,
     "metadata": {},
     "output_type": "execute_result"
    }
   ],
   "source": [
    "vector_store.add(nodes)"
   ]
  },
  {
   "cell_type": "code",
   "execution_count": 2,
   "metadata": {},
   "outputs": [
    {
     "name": "stderr",
     "output_type": "stream",
     "text": [
      "/Library/Frameworks/Python.framework/Versions/3.12/lib/python3.12/site-packages/tqdm/auto.py:21: TqdmWarning: IProgress not found. Please update jupyter and ipywidgets. See https://ipywidgets.readthedocs.io/en/stable/user_install.html\n",
      "  from .autonotebook import tqdm as notebook_tqdm\n"
     ]
    }
   ],
   "source": [
    "from llama_index.core  import VectorStoreIndex"
   ]
  },
  {
   "cell_type": "code",
   "execution_count": 36,
   "metadata": {},
   "outputs": [],
   "source": [
    "index = VectorStoreIndex.from_vector_store(vector_store=vector_store)"
   ]
  },
  {
   "cell_type": "code",
   "execution_count": 37,
   "metadata": {},
   "outputs": [],
   "source": [
    "query_engine = index.as_query_engine()"
   ]
  },
  {
   "cell_type": "code",
   "execution_count": 38,
   "metadata": {},
   "outputs": [],
   "source": [
    "query = \"Which code includes Significance of form for the validity of transactions? In which article, book and chapter is it written?\""
   ]
  },
  {
   "cell_type": "code",
   "execution_count": 39,
   "metadata": {},
   "outputs": [],
   "source": [
    "response = query_engine.query(query)"
   ]
  },
  {
   "cell_type": "code",
   "execution_count": 77,
   "metadata": {},
   "outputs": [
    {
     "name": "stdout",
     "output_type": "stream",
     "text": [
      "> Source (Doc id: a7388c7d-0245-42ba-9a72-d286b0638a71): k) verification – obtaining information (documents) which enables\n",
      "an obliged entity to verify the...\n",
      "\n",
      "> Source (Doc id: 5693df76-6e6a-4bf2-a90a-b3d1186df8c7): report on a suspicious transaction or the attempt to prepare, make,\n",
      "or complete such a transactio...\n",
      "query was: Which code includes Significance of form for the validity of transactions? In which article, book and chapter is it written?\n",
      "answer was: The code that includes the significance of form for the validity of transactions is Article 19(1) of this Law.\n",
      "\n",
      "This information can be found in the excerpt provided.\n"
     ]
    }
   ],
   "source": [
    "print(\"query was:\", query)\n",
    "print(\"answer was:\", response)"
   ]
  },
  {
   "cell_type": "code",
   "execution_count": 78,
   "metadata": {},
   "outputs": [
    {
     "name": "stdout",
     "output_type": "stream",
     "text": [
      "('The code that includes the significance of form for the validity of '\n",
      " 'transactions is Article 19(1) of this Law.\\n'\n",
      " '\\n'\n",
      " 'This information can be found in the excerpt provided.')\n"
     ]
    }
   ],
   "source": [
    "pprint(str(response))"
   ]
  },
  {
   "cell_type": "code",
   "execution_count": null,
   "metadata": {},
   "outputs": [],
   "source": []
  }
 ],
 "metadata": {
  "kernelspec": {
   "display_name": "env",
   "language": "python",
   "name": "python3"
  },
  "language_info": {
   "codemirror_mode": {
    "name": "ipython",
    "version": 3
   },
   "file_extension": ".py",
   "mimetype": "text/x-python",
   "name": "python",
   "nbconvert_exporter": "python",
   "pygments_lexer": "ipython3",
   "version": "3.12.3"
  }
 },
 "nbformat": 4,
 "nbformat_minor": 2
}
